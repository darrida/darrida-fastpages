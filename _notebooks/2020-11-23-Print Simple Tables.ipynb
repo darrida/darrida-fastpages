{
 "cells": [
  {
   "cell_type": "markdown",
   "metadata": {},
   "source": [
    "# Print Simple Tables\n",
    "> Personal notes for different methods to print plain text tables in Python.\n",
    "\n",
    "- toc: true\n",
    "- badges: true\n",
    "- comments: true\n",
    "- categories: [general]"
   ]
  },
  {
   "cell_type": "code",
   "execution_count": 1,
   "metadata": {},
   "outputs": [],
   "source": [
    "#hide\n",
    "\n",
    "# PyPI\n",
    "from bs4 import BeautifulSoup as BS\n",
    "import requests\n",
    "\n",
    "# Standard\n",
    "import pprint\n",
    "import json\n",
    "import re\n",
    "\n",
    "# SUPPORTING FUNCTIONS\n",
    "def build_title(title: str) -> str:\n",
    "    return f'-------------------------------\\n{title}\\n-------------------------------\\n'"
   ]
  },
  {
   "cell_type": "code",
   "execution_count": 2,
   "metadata": {},
   "outputs": [
    {
     "name": "stdout",
     "output_type": "stream",
     "text": [
      "-------------------------------\n",
      "CLI ADMISSIONS\n",
      "-------------------------------\n",
      "\n",
      "[{'CLIAdmissionsRA': 50.0,\n",
      "  'regionDescription': 'West Suburban',\n",
      "  'regionID': 8,\n",
      "  'reportDate': '2020-11-24T00:00:00'},\n",
      " {'CLIAdmissionsRA': 50.0,\n",
      "  'regionDescription': 'West Suburban',\n",
      "  'regionID': 8,\n",
      "  'reportDate': '2020-11-25T00:00:00'},\n",
      " {'CLIAdmissionsRA': 47.0,\n",
      "  'regionDescription': 'West Suburban',\n",
      "  'regionID': 8,\n",
      "  'reportDate': '2020-11-26T00:00:00'},\n",
      " {'CLIAdmissionsRA': 47.0,\n",
      "  'regionDescription': 'West Suburban',\n",
      "  'regionID': 8,\n",
      "  'reportDate': '2020-11-27T00:00:00'}]\n",
      "-------------------------------\n",
      "COUNTRY TEST POSITIVITY REPORTS\n",
      "-------------------------------\n",
      "\n",
      "[{'countyTestPositivities': [{'CountyName': 'DuPage',\n",
      "                              'dailyPositivity': 0.0,\n",
      "                              'positive_test': 777,\n",
      "                              'positivityRollingAvg': 12.3,\n",
      "                              'regionID': 8,\n",
      "                              'totalTest': 6411},\n",
      "                             {'CountyName': 'Kane',\n",
      "                              'dailyPositivity': 0.0,\n",
      "                              'positive_test': 517,\n",
      "                              'positivityRollingAvg': 16.3,\n",
      "                              'regionID': 8,\n",
      "                              'totalTest': 3790}],\n",
      "  'reportDate': '2020-11-24T00:00:00'},\n",
      " {'countyTestPositivities': [{'CountyName': 'DuPage',\n",
      "                              'dailyPositivity': 0.0,\n",
      "                              'positive_test': 731,\n",
      "                              'positivityRollingAvg': 12.0,\n",
      "                              'regionID': 8,\n",
      "                              'totalTest': 6365},\n",
      "                             {'CountyName': 'Kane',\n",
      "                              'dailyPositivity': 0.0,\n",
      "                              'positive_test': 409,\n",
      "                              'positivityRollingAvg': 15.5,\n",
      "                              'regionID': 8,\n",
      "                              'totalTest': 2847}],\n",
      "  'reportDate': '2020-11-25T00:00:00'},\n",
      " {'countyTestPositivities': [{'CountyName': 'DuPage',\n",
      "                              'dailyPositivity': 0.0,\n",
      "                              'positive_test': 660,\n",
      "                              'positivityRollingAvg': 11.8,\n",
      "                              'regionID': 8,\n",
      "                              'totalTest': 5301},\n",
      "                             {'CountyName': 'Kane',\n",
      "                              'dailyPositivity': 0.0,\n",
      "                              'positive_test': 433,\n",
      "                              'positivityRollingAvg': 15.9,\n",
      "                              'regionID': 8,\n",
      "                              'totalTest': 2467}],\n",
      "  'reportDate': '2020-11-26T00:00:00'},\n",
      " {'countyTestPositivities': [{'CountyName': 'DuPage',\n",
      "                              'dailyPositivity': 0.0,\n",
      "                              'positive_test': 712,\n",
      "                              'positivityRollingAvg': 11.9,\n",
      "                              'regionID': 8,\n",
      "                              'totalTest': 5055},\n",
      "                             {'CountyName': 'Kane',\n",
      "                              'dailyPositivity': 0.0,\n",
      "                              'positive_test': 413,\n",
      "                              'positivityRollingAvg': 15.4,\n",
      "                              'regionID': 8,\n",
      "                              'totalTest': 2399}],\n",
      "  'reportDate': '2020-11-27T00:00:00'}]\n",
      "-------------------------------\n",
      "HOSPITAL AVAILABILITY\n",
      "-------------------------------\n",
      "\n",
      "[{'AverageICUAvailPct': 0.200581395,\n",
      "  'AverageMedSurgAvailPct': 0.200609059,\n",
      "  'regionDescription': 'West Suburban',\n",
      "  'regionID': 8,\n",
      "  'reportDate': '2020-11-26T00:00:00'},\n",
      " {'AverageICUAvailPct': 0.204457364,\n",
      "  'AverageMedSurgAvailPct': 0.225142857,\n",
      "  'regionDescription': 'West Suburban',\n",
      "  'regionID': 8,\n",
      "  'reportDate': '2020-11-27T00:00:00'},\n",
      " {'AverageICUAvailPct': 0.230620155,\n",
      "  'AverageMedSurgAvailPct': 0.236761904,\n",
      "  'regionDescription': 'West Suburban',\n",
      "  'regionID': 8,\n",
      "  'reportDate': '2020-11-28T00:00:00'},\n",
      " {'AverageICUAvailPct': 0.240310077,\n",
      "  'AverageMedSurgAvailPct': 0.222285714,\n",
      "  'regionDescription': 'West Suburban',\n",
      "  'regionID': 8,\n",
      "  'reportDate': '2020-11-29T00:00:00'}]\n",
      "-------------------------------\n",
      "HOSPITAL BEDS IN USE AVG\n",
      "-------------------------------\n",
      "\n",
      "[{'COVIDHospitalBedsInUseAvg': 691,\n",
      "  'regionDescription': 'West Suburban',\n",
      "  'regionID': 8,\n",
      "  'reportDate': '2020-11-26T00:00:00'},\n",
      " {'COVIDHospitalBedsInUseAvg': 677,\n",
      "  'regionDescription': 'West Suburban',\n",
      "  'regionID': 8,\n",
      "  'reportDate': '2020-11-27T00:00:00'},\n",
      " {'COVIDHospitalBedsInUseAvg': 666,\n",
      "  'regionDescription': 'West Suburban',\n",
      "  'regionID': 8,\n",
      "  'reportDate': '2020-11-28T00:00:00'},\n",
      " {'COVIDHospitalBedsInUseAvg': 652,\n",
      "  'regionDescription': 'West Suburban',\n",
      "  'regionID': 8,\n",
      "  'reportDate': '2020-11-29T00:00:00'}]\n",
      "-------------------------------\n",
      "TEST POSITIVITY\n",
      "-------------------------------\n",
      "\n",
      "[{'positiveTests': 1294,\n",
      "  'regionDescription': 'West Suburban',\n",
      "  'regionID': 8,\n",
      "  'reportDate': '2020-11-24T00:00:00',\n",
      "  'testPositivityRollingAvg': 13.7,\n",
      "  'totalTests': 10201},\n",
      " {'positiveTests': 1140,\n",
      "  'regionDescription': 'West Suburban',\n",
      "  'regionID': 8,\n",
      "  'reportDate': '2020-11-25T00:00:00',\n",
      "  'testPositivityRollingAvg': 13.2,\n",
      "  'totalTests': 9212},\n",
      " {'positiveTests': 1093,\n",
      "  'regionDescription': 'West Suburban',\n",
      "  'regionID': 8,\n",
      "  'reportDate': '2020-11-26T00:00:00',\n",
      "  'testPositivityRollingAvg': 13.2,\n",
      "  'totalTests': 7768},\n",
      " {'positiveTests': 1125,\n",
      "  'regionDescription': 'West Suburban',\n",
      "  'regionID': 8,\n",
      "  'reportDate': '2020-11-27T00:00:00',\n",
      "  'testPositivityRollingAvg': 13.1,\n",
      "  'totalTests': 7454}]\n",
      "-------------------------------\n",
      "LAST UPDATED DATE\n",
      "-------------------------------\n",
      "\n",
      "{'day': 30, 'month': 11, 'year': 2020}\n",
      "-------------------------------\n",
      "REGION METRICS\n",
      "-------------------------------\n",
      "\n",
      "[{'CLIAdmissions_RollingAvg': 47.0,\n",
      "  'COVIDHospitalBedsInUse': 691.0,\n",
      "  'ICUAvailPct_Avg': '20.06 %',\n",
      "  'MedSurgAvailPct_Avg': '20.06 %',\n",
      "  'PositiveTests': 1093,\n",
      "  'RegionDescription': 'West Suburban',\n",
      "  'RegionID': 8,\n",
      "  'ReportDate': '2020-11-26T00:00:00',\n",
      "  'TestPositivity_RollingAvg': 13.2,\n",
      "  'TotalTests': 7768},\n",
      " {'CLIAdmissions_RollingAvg': 47.0,\n",
      "  'COVIDHospitalBedsInUse': 677.0,\n",
      "  'ICUAvailPct_Avg': '20.45 %',\n",
      "  'MedSurgAvailPct_Avg': '22.51 %',\n",
      "  'PositiveTests': 1125,\n",
      "  'RegionDescription': 'West Suburban',\n",
      "  'RegionID': 8,\n",
      "  'ReportDate': '2020-11-27T00:00:00',\n",
      "  'TestPositivity_RollingAvg': 13.1,\n",
      "  'TotalTests': 7454}]\n"
     ]
    }
   ],
   "source": [
    "#hide\n",
    "\n",
    "import requests, json\n",
    "\n",
    "query_url = 'https://idph.illinois.gov/DPHPublicInformation/api/COVID/GetResurgenceData?regionID=8&daysIncluded=3' #+ selectedRegion + '&daysIncluded=' + chartRange\n",
    "\n",
    "page = requests.get(query_url)\n",
    "\n",
    "print(build_title('CLI ADMISSIONS'))\n",
    "pprint.pprint(page.json()['CLIAdmissions'])\n",
    "\n",
    "print(build_title('COUNTRY TEST POSITIVITY REPORTS'))\n",
    "pprint.pprint(page.json()['CountyTestPositivityReports'])\n",
    "\n",
    "print(build_title('HOSPITAL AVAILABILITY'))\n",
    "pprint.pprint(page.json()['HospitalAvailability'])\n",
    "\n",
    "print(build_title('HOSPITAL BEDS IN USE AVG'))\n",
    "pprint.pprint(page.json()['HospitalBedsInUseAvg'])\n",
    "\n",
    "print(build_title('TEST POSITIVITY'))\n",
    "pprint.pprint(page.json()['TestPositivity'])\n",
    "\n",
    "print(build_title('LAST UPDATED DATE'))\n",
    "pprint.pprint(page.json()['lastUpdatedDate'])\n",
    "\n",
    "print(build_title('REGION METRICS'))\n",
    "pprint.pprint(page.json()['regionMetrics'])"
   ]
  },
  {
   "cell_type": "markdown",
   "metadata": {},
   "source": [
    "## Manually Created Tables\n",
    "\n",
    "- Creating plain text tables from scratch is tedious, especially if they require a lot of flexibility.\n",
    "- Libraries exist that remove all of this work (one is explored further below), but with all programming libraries it's helpful (if not very important) to understand the general concept of what is happening behind the scenes.\n",
    "- This sections covers that \"basic concept\" part. It walks through sample methods for creating tables (from crude to dynamic)."
   ]
  },
  {
   "cell_type": "markdown",
   "metadata": {},
   "source": [
    "### Crude separators"
   ]
  },
  {
   "cell_type": "markdown",
   "metadata": {},
   "source": [
    "**Sample Data 1**"
   ]
  },
  {
   "cell_type": "code",
   "execution_count": 3,
   "metadata": {},
   "outputs": [],
   "source": [
    "table_list = [\n",
    "    ['INDEX', 'COLUMN1', 'COLUMN2', 'COLUMN3'],\n",
    "    ['1', 'A', 'B', 'C'],\n",
    "    ['2', 'D', 'E', 'F'],\n",
    "    ['3', 'G', 'H', 'I']\n",
    "]"
   ]
  },
  {
   "cell_type": "markdown",
   "metadata": {},
   "source": [
    "- At the simplest level, you could just print out each sublist (for example), with each item separated by bars. The issue with this approach is that the columns won't be lined up at all. In this case lists 2-4 are lined up, but not the column headers."
   ]
  },
  {
   "cell_type": "code",
   "execution_count": 4,
   "metadata": {},
   "outputs": [
    {
     "name": "stdout",
     "output_type": "stream",
     "text": [
      "| INDEX | COLUMN1 | COLUMN2 | COLUMN3 |\n",
      "| 1 | A | B | C |\n",
      "| 2 | D | E | F |\n",
      "| 3 | G | H | I |\n"
     ]
    }
   ],
   "source": [
    "for item in table_list:\n",
    "    row = f'| {item[0]} | {item[1]} | {item[2]} | {item[3]} |'\n",
    "    print(row)"
   ]
  },
  {
   "cell_type": "markdown",
   "metadata": {},
   "source": [
    "### Basic column width\n",
    "- A basic fix for this would be decided on a column width, and make sure that each string was that long using a raw equation.\n",
    "- In the case below, the string length for the column is 10 characters -- the equation is similar to: `' ' * (10 - len(string_variable))`\n",
    "  - Working from the outside in, this does the following:\n",
    "    1. `string_length = len(string_variable)`     => counts the number of characters in the string that contains the value\n",
    "    2. `length_diff = 10 - string_length`         => subtracts the result of step 1 from ten\n",
    "    3. `string_fill = ' ' * length_diff`          => mutliplies a space character by the length difference between the orginal value and the required column length\n",
    "    4. `final_str = string_variable + string_fill => lenth will meet the column width requirement\n",
    "- The approach is used below. Each item in the lists takes the original string, calculates required filler space characters, then builds the new variable."
   ]
  },
  {
   "cell_type": "code",
   "execution_count": 5,
   "metadata": {},
   "outputs": [
    {
     "name": "stdout",
     "output_type": "stream",
     "text": [
      "+---------------------------------------------------+\n",
      "| INDEX      | COLUMN1    | COLUMN2    | COLUMN3    |\n",
      "+---------------------------------------------------+\n",
      "| 1          | A          | B          | C          |\n",
      "+---------------------------------------------------+\n",
      "| 2          | D          | E          | F          |\n",
      "+---------------------------------------------------+\n",
      "| 3          | G          | H          | I          |\n",
      "+---------------------------------------------------+\n"
     ]
    }
   ],
   "source": [
    "for item in table_list:\n",
    "    # HORIZONAL LINES ADDED FOR REASONS\n",
    "    print('+---------------------------------------------------+')\n",
    "    item0 = item[0] + \" \" * (10 - len(item[0]))\n",
    "    item1 = item[1] + \" \" * (10 - len(item[1]))\n",
    "    item2 = item[2] + \" \" * (10 - len(item[2]))\n",
    "    item3 = item[3] + \" \" * (10 - len(item[3]))\n",
    "    row = f'| {item0} | {item1} | {item2} | {item3} |'\n",
    "    print(row)\n",
    "print('+---------------------------------------------------+')"
   ]
  },
  {
   "cell_type": "markdown",
   "metadata": {},
   "source": [
    "- The output above now resembles an actual table of data, but it the current approach comes with drawbacks. For example: What happens if a string is wider than the desired string length of the column width?\n",
    "\n",
    "### Dynamic Column Width\n",
    "\n",
    "**Sample Data 2** (increases column 4 in row 4 beyond 10 characters)"
   ]
  },
  {
   "cell_type": "code",
   "execution_count": 6,
   "metadata": {},
   "outputs": [],
   "source": [
    "table_list = [\n",
    "    ['INDEX', 'COLUMN1', 'COLUMN2', 'COLUMN3'],\n",
    "    ['1', 'A', 'B', 'C'],\n",
    "    ['2', 'D', 'E', 'F'],\n",
    "    ['3', 'G', '9999999999999', 'I']\n",
    "]"
   ]
  },
  {
   "cell_type": "markdown",
   "metadata": {},
   "source": [
    "- In the next example, each columns width is dynamically calulated based on the width of the longest string for that column\n",
    "- Doing this requires interating over each index position in every row to calculate the max length - then storing that information in another list (`width_list`)\n",
    "- The index positions in `width_list` match up with column index positions, so `width_list[n]` can be directly replace the \"10\" used above\n",
    "- NOTE: The horizontal line is now calculated as well. There is no magic in the calculation. Just trial and error until I figured it out."
   ]
  },
  {
   "cell_type": "code",
   "execution_count": 7,
   "metadata": {},
   "outputs": [
    {
     "name": "stdout",
     "output_type": "stream",
     "text": [
      "Longest string in each column: [5, 7, 13, 7] \n",
      "\n",
      "+-------------------------------------------+\n",
      "| INDEX | COLUMN1 | COLUMN2       | COLUMN3 |\n",
      "+-------------------------------------------+\n",
      "| 1     | A       | B             | C       |\n",
      "+-------------------------------------------+\n",
      "| 2     | D       | E             | F       |\n",
      "+-------------------------------------------+\n",
      "| 3     | G       | 9999999999999 | I       |\n",
      "+-------------------------------------------+\n"
     ]
    }
   ],
   "source": [
    "# CREATE EMPTY LIST FOR COLUMN WIDTHS\n",
    "width_list = []\n",
    "\n",
    "# ITERATE OVER `table_list`, ONCE FOR EACH LIST/ROW\n",
    "# - Sets an index of 0, which is increase each time an index position (representing a column) is fully accounted for throughout `table_list`\n",
    "index = 0\n",
    "while index < len(table_list):\n",
    "    # FOR EACH INDEX POSITION ITERATE OVER THAT INDEX IN EVER LIST TO FIND LONGEST STRING\n",
    "    for row in table_list:\n",
    "        try:\n",
    "            if len(row[index]) > width_list[index]:\n",
    "                width_list[index] = len(row[index])\n",
    "        # HANDLES EXCEPTIONS THROWN FOR THE FIRST TIME THE CODE ATTEMPTS TO SET/CHANGE EACH INDEX IN `width_list`\n",
    "        # - Creates the index position by appending a 0, then sets that position as the length of the current value being evaluated\n",
    "        except IndexError as e:\n",
    "            if str(e) == 'list index out of range':\n",
    "                width_list.append(0)\n",
    "                width_list[index] = len(row[index])\n",
    "    index += 1\n",
    "\n",
    "# RESULT IS LIST WITH LONGEST STRING IN EACH COLUMN\n",
    "print('Longest string in each column:', width_list, '\\n')\n",
    "\n",
    "# CALCULATE HORIZONTAL LINES BASED ON `width_list`\n",
    "row_length = len(width_list)*2 + (len(width_list) - 1) + sum(width_list)\n",
    "# BUILD LINE BASED ON LENGTH CALCULATION\n",
    "line = f'+{\"-\" * row_length}+'\n",
    "\n",
    "# BUILD AND PRINT TABLE\n",
    "for item in table_list:\n",
    "    item0 = item[0] + ' ' * (width_list[0] - len(item[0]))\n",
    "    item1 = item[1] + ' ' * (width_list[1] - len(item[1]))\n",
    "    item2 = item[2] + ' ' * (width_list[2] - len(item[2]))\n",
    "    item3 = item[3] + ' ' * (width_list[3] - len(item[3]))\n",
    "    print(line)\n",
    "    print(f'| {item0} | {item1} | {item2} | {item3} |')\n",
    "print(line)"
   ]
  },
  {
   "cell_type": "markdown",
   "metadata": {},
   "source": [
    "### Dynamic Number of Columns\n",
    "\n",
    "**Sample Data 3** (increases number of rows and columns)"
   ]
  },
  {
   "cell_type": "code",
   "execution_count": 8,
   "metadata": {},
   "outputs": [],
   "source": [
    "table_list = [\n",
    "    ['INDEX', 'COLUMN1', 'COLUMN2', 'COLUMN3', 'COLUMN4', 'COLUMN5'],\n",
    "    ['1', 'A', 'B', 'C', 'CB', 'CC'],\n",
    "    ['2', 'D', 'E', 'F', 'FB', 'FC'],\n",
    "    ['3', 'G', '9999999999999', 'I', 'IB', 'IC'],\n",
    "    ['4', '!', '@', '#', '$', '%'],\n",
    "]"
   ]
  },
  {
   "cell_type": "markdown",
   "metadata": {},
   "source": [
    "- Every example up to this point assumes that the width of the table is know\n",
    "- The example below has dynamically to populate the `width_list` (simply involves adding `[0]` to the `while` statement - which comes with its own limitations), and dynamically builds each row (rather than index positions being hard coded"
   ]
  },
  {
   "cell_type": "code",
   "execution_count": 9,
   "metadata": {},
   "outputs": [
    {
     "name": "stdout",
     "output_type": "stream",
     "text": [
      "Longest string in each column: [5, 7, 13, 7, 7, 7] \n",
      "\n",
      "+---------------------------------------------------------------+\n",
      "| INDEX | COLUMN1 | COLUMN2       | COLUMN3 | COLUMN4 | COLUMN5 |\n",
      "+---------------------------------------------------------------+\n",
      "| 1     | A       | B             | C       | CB      | CC      |\n",
      "+---------------------------------------------------------------+\n",
      "| 2     | D       | E             | F       | FB      | FC      |\n",
      "+---------------------------------------------------------------+\n",
      "| 3     | G       | 9999999999999 | I       | IB      | IC      |\n",
      "+---------------------------------------------------------------+\n",
      "| 4     | !       | @             | #       | $       | %       |\n",
      "+---------------------------------------------------------------+\n"
     ]
    }
   ],
   "source": [
    "# CREATE EMPTY LIST FOR COLUMN WIDTHS\n",
    "width_list = []\n",
    "\n",
    "# VALIDATES THAT EVERY LIST/ROW IS THE SAME LENGTH (required for valid table)\n",
    "# - The map function runs `len` against every list in table_list and records the results in a map object\n",
    "# - Wrapping `list()` around the map function converts the map function to a list of int representing list lengths\n",
    "lengths = list(map(len, table_list))\n",
    "# - The list comprehention tests the first value in `lengths` against every other value in the list.\n",
    "#   - If the test matches, True, else False.\n",
    "#   - The list function converts the map object to a list\n",
    "# - The if statement around the comprehention checks if False exists anywhere in the resulting list.\n",
    "#   - If False exists one or more times `same` is set to False (which will skip the result of the code).\n",
    "#   - If False does not exist `same` set to True\n",
    "same = False if False in [lengths[0] == x for x in lengths] else True\n",
    "\n",
    "# ITERATE OVER `table_list`, ONCE FOR EACH LIST/ROW\n",
    "# - Sets an index of 0, which is increase each time an index position (representing a column) is fully accounted for throughout `table_list`\n",
    "if same == True:\n",
    "    index = 0\n",
    "    while index < len(table_list[0]):   \n",
    "        # FOR EACH INDEX POSITION ITERATE OVER THAT INDEX IN EVER LIST TO FIND LONGEST STRING\n",
    "        for row in table_list:\n",
    "            try:\n",
    "                if len(row[index]) > width_list[index]:\n",
    "                    width_list[index] = len(row[index])\n",
    "            # HANDLES EXCEPTIONS THROWN FOR THE FIRST TIME THE CODE ATTEMPTS TO SET/CHANGE EACH INDEX IN `width_list`\n",
    "            # - Creates the index position by appending a 0, then sets that position as the length of the current value being evaluated\n",
    "            except IndexError as e:\n",
    "                if str(e) == 'list index out of range':\n",
    "                    width_list.append(0)\n",
    "                    width_list[index] = len(row[index])\n",
    "        index += 1\n",
    "\n",
    "    # RESULT IS LIST WITH LONGEST STRING IN EACH COLUMN\n",
    "    print('Longest string in each column:', width_list, '\\n')\n",
    "\n",
    "    # CALCULATE HORIZONTAL LINES BASED ON `width_list`\n",
    "    row_length = len(width_list)*2 + (len(width_list) - 1) + sum(width_list)\n",
    "    # BUILD LINE BASED ON LENGTH CALCULATION\n",
    "    line = f'+{\"-\" * row_length}+'\n",
    "\n",
    "    # BUILD AND PRINT TABLE\n",
    "    for list_row in table_list:\n",
    "        width_index = 0\n",
    "        row = ''\n",
    "        # THE BUILD RELATED STATEMENTS ARE NOW DYNAMIC INSTEAD OF HARDCODED\n",
    "        for item in list_row:\n",
    "            item_str = \" \" + item + \" \" * (width_list[width_index] - len(item)) + \" \"\n",
    "            row = row + '|' + item_str\n",
    "            width_index += 1\n",
    "        print(line)\n",
    "        print(row + '|')\n",
    "    print(line)\n",
    "else:\n",
    "    print('Not all rows are the same length. Valid table can\\'t be built.')\n"
   ]
  },
  {
   "cell_type": "markdown",
   "metadata": {},
   "source": [
    "- This gets the job, but it is a **lot of work** just to print a plain text table\n",
    "- Fortunately, there is a library that does a lot of this work behind the scenes"
   ]
  },
  {
   "cell_type": "markdown",
   "metadata": {},
   "source": [
    "## Tables Created with **Tabulate**\n",
    "\n",
    "- PyPI: https://pypi.org/project/tabulate/\n",
    "- Conda-Forge: https://anaconda.org/conda-forge/tabulatehttps://anaconda.org/conda-forge/tabulate\n",
    "- Github: https://github.com/astanin/python-tabulate (includes docs)"
   ]
  },
  {
   "cell_type": "markdown",
   "metadata": {},
   "source": [
    "**Sample Data 3** (same as previous example)"
   ]
  },
  {
   "cell_type": "code",
   "execution_count": 10,
   "metadata": {},
   "outputs": [],
   "source": [
    "table_list = [\n",
    "    ['INDEX', 'COLUMN1', 'COLUMN2', 'COLUMN3', 'COLUMN4', 'COLUMN5'],\n",
    "    ['1', 'A', 'B', 'C', 'CB', 'CC'],\n",
    "    ['2', 'D', 'E', 'F', 'FB', 'FC'],\n",
    "    ['3', 'G', '9999999999999', 'I', 'IB', 'IC'],\n",
    "    ['4', '!', '@', '#', '$', '%'],\n",
    "]"
   ]
  },
  {
   "cell_type": "markdown",
   "metadata": {},
   "source": [
    "### Very Basic Tabulate Table (no headers)\n",
    "\n",
    "- The simplest form of table just involves passing a list of lists into a tabulate call.\n",
    "- The result is not very pretty, but we just dropped from upwards of 30+ lines of code to... ONE LINE."
   ]
  },
  {
   "cell_type": "code",
   "execution_count": 11,
   "metadata": {},
   "outputs": [
    {
     "name": "stdout",
     "output_type": "stream",
     "text": [
      "-----  -------  -------------  -------  -------  -------\n",
      "INDEX  COLUMN1  COLUMN2        COLUMN3  COLUMN4  COLUMN5\n",
      "1      A        B              C        CB       CC\n",
      "2      D        E              F        FB       FC\n",
      "3      G        9999999999999  I        IB       IC\n",
      "4      !        @              #        $        %\n",
      "-----  -------  -------------  -------  -------  -------\n"
     ]
    }
   ],
   "source": [
    "from tabulate import tabulate\n",
    "\n",
    "print(tabulate(table_list))"
   ]
  },
  {
   "cell_type": "markdown",
   "metadata": {},
   "source": [
    "### Basic Tabulate Table with Headers\n",
    "\n",
    "- The first example was nice and easy, but it didn't separate the header list from the data.\n",
    "- Tabulate allows headers to be set using using a `headers` parameter.\n",
    "- In the example below, notice the headers list was also removed from `table_list` (otherwise they would show up twice)."
   ]
  },
  {
   "cell_type": "code",
   "execution_count": 12,
   "metadata": {},
   "outputs": [
    {
     "name": "stdout",
     "output_type": "stream",
     "text": [
      "  INDEX  COLUMN1    COLUMN2        COLUMN3    COLUMN4    COLUMN5\n",
      "-------  ---------  -------------  ---------  ---------  ---------\n",
      "      1  A          B              C          CB         CC\n",
      "      2  D          E              F          FB         FC\n",
      "      3  G          9999999999999  I          IB         IC\n",
      "      4  !          @              #          $          %\n"
     ]
    }
   ],
   "source": [
    "print(tabulate(table_list[1:], headers=['INDEX', 'COLUMN1', 'COLUMN2', 'COLUMN3', 'COLUMN4', 'COLUMN5']))"
   ]
  },
  {
   "cell_type": "markdown",
   "metadata": {},
   "source": [
    "- Typing out all of the headers can be tedious.\n",
    "- Fortunately an exiting list object can be passed into the `headers` parameter, and a headers list already exists: `table_list[0]`\n",
    "- Below is a cleaned up example with the header list sliced out of `table_list`, but added to `headers`"
   ]
  },
  {
   "cell_type": "code",
   "execution_count": 13,
   "metadata": {},
   "outputs": [
    {
     "name": "stdout",
     "output_type": "stream",
     "text": [
      "  INDEX  COLUMN1    COLUMN2        COLUMN3    COLUMN4    COLUMN5\n",
      "-------  ---------  -------------  ---------  ---------  ---------\n",
      "      1  A          B              C          CB         CC\n",
      "      2  D          E              F          FB         FC\n",
      "      3  G          9999999999999  I          IB         IC\n",
      "      4  !          @              #          $          %\n"
     ]
    }
   ],
   "source": [
    "print(tabulate(table_list[1:], headers=table_list[0]))"
   ]
  },
  {
   "cell_type": "markdown",
   "metadata": {},
   "source": [
    "- Similar how `headers` functions, a raw list can also be typed out in parameter position 1 as well (rather than passing in an existing list object)."
   ]
  },
  {
   "cell_type": "markdown",
   "metadata": {},
   "source": [
    "### Tabulate Table with Index\n",
    "\n",
    "- It's also easy to add an index (our example has one manually created, but this can be useful as well)."
   ]
  },
  {
   "cell_type": "code",
   "execution_count": 14,
   "metadata": {},
   "outputs": [
    {
     "name": "stdout",
     "output_type": "stream",
     "text": [
      "      INDEX  COLUMN1    COLUMN2        COLUMN3    COLUMN4    COLUMN5\n",
      "--  -------  ---------  -------------  ---------  ---------  ---------\n",
      " 0        1  A          B              C          CB         CC\n",
      " 1        2  D          E              F          FB         FC\n",
      " 2        3  G          9999999999999  I          IB         IC\n",
      " 3        4  !          @              #          $          %\n"
     ]
    }
   ],
   "source": [
    "print(tabulate(table_list[1:], headers=table_list[0], showindex=\"always\"))"
   ]
  },
  {
   "cell_type": "markdown",
   "metadata": {},
   "source": [
    "### Tabulate Table Formats\n",
    "\n",
    "- One of the nicest features of tabulate is that it has a large number of formats available"
   ]
  },
  {
   "cell_type": "code",
   "execution_count": 15,
   "metadata": {},
   "outputs": [
    {
     "name": "stdout",
     "output_type": "stream",
     "text": [
      "|   INDEX | COLUMN1   | COLUMN2       | COLUMN3   | COLUMN4   | COLUMN5   |\n",
      "|---------|-----------|---------------|-----------|-----------|-----------|\n",
      "|       1 | A         | B             | C         | CB        | CC        |\n",
      "|       2 | D         | E             | F         | FB        | FC        |\n",
      "|       3 | G         | 9999999999999 | I         | IB        | IC        |\n",
      "|       4 | !         | @             | #         | $         | %         |\n"
     ]
    }
   ],
   "source": [
    "print(tabulate(table_list[1:], headers=table_list[0], tablefmt=\"github\"))"
   ]
  },
  {
   "cell_type": "code",
   "execution_count": 16,
   "metadata": {},
   "outputs": [
    {
     "name": "stdout",
     "output_type": "stream",
     "text": [
      "+---------+-----------+---------------+-----------+-----------+-----------+\n",
      "|   INDEX | COLUMN1   | COLUMN2       | COLUMN3   | COLUMN4   | COLUMN5   |\n",
      "+=========+===========+===============+===========+===========+===========+\n",
      "|       1 | A         | B             | C         | CB        | CC        |\n",
      "+---------+-----------+---------------+-----------+-----------+-----------+\n",
      "|       2 | D         | E             | F         | FB        | FC        |\n",
      "+---------+-----------+---------------+-----------+-----------+-----------+\n",
      "|       3 | G         | 9999999999999 | I         | IB        | IC        |\n",
      "+---------+-----------+---------------+-----------+-----------+-----------+\n",
      "|       4 | !         | @             | #         | $         | %         |\n",
      "+---------+-----------+---------------+-----------+-----------+-----------+\n"
     ]
    }
   ],
   "source": [
    "print(tabulate(table_list[1:], headers=table_list[0], tablefmt=\"grid\"))"
   ]
  },
  {
   "cell_type": "code",
   "execution_count": 17,
   "metadata": {},
   "outputs": [
    {
     "name": "stdout",
     "output_type": "stream",
     "text": [
      "╒═════════╤═══════════╤═══════════════╤═══════════╤═══════════╤═══════════╕\n",
      "│   INDEX │ COLUMN1   │ COLUMN2       │ COLUMN3   │ COLUMN4   │ COLUMN5   │\n",
      "╞═════════╪═══════════╪═══════════════╪═══════════╪═══════════╪═══════════╡\n",
      "│       1 │ A         │ B             │ C         │ CB        │ CC        │\n",
      "├─────────┼───────────┼───────────────┼───────────┼───────────┼───────────┤\n",
      "│       2 │ D         │ E             │ F         │ FB        │ FC        │\n",
      "├─────────┼───────────┼───────────────┼───────────┼───────────┼───────────┤\n",
      "│       3 │ G         │ 9999999999999 │ I         │ IB        │ IC        │\n",
      "├─────────┼───────────┼───────────────┼───────────┼───────────┼───────────┤\n",
      "│       4 │ !         │ @             │ #         │ $         │ %         │\n",
      "╘═════════╧═══════════╧═══════════════╧═══════════╧═══════════╧═══════════╛\n"
     ]
    }
   ],
   "source": [
    "print(tabulate(table_list[1:], headers=table_list[0], tablefmt=\"fancy_grid\"))"
   ]
  },
  {
   "cell_type": "code",
   "execution_count": 18,
   "metadata": {},
   "outputs": [
    {
     "name": "stdout",
     "output_type": "stream",
     "text": [
      "+---------+-----------+---------------+-----------+-----------+-----------+\n",
      "|   INDEX | COLUMN1   | COLUMN2       | COLUMN3   | COLUMN4   | COLUMN5   |\n",
      "|---------+-----------+---------------+-----------+-----------+-----------|\n",
      "|       1 | A         | B             | C         | CB        | CC        |\n",
      "|       2 | D         | E             | F         | FB        | FC        |\n",
      "|       3 | G         | 9999999999999 | I         | IB        | IC        |\n",
      "|       4 | !         | @             | #         | $         | %         |\n",
      "+---------+-----------+---------------+-----------+-----------+-----------+\n"
     ]
    }
   ],
   "source": [
    "print(tabulate(table_list[1:], headers=table_list[0], tablefmt=\"psql\"))"
   ]
  },
  {
   "cell_type": "markdown",
   "metadata": {},
   "source": [
    "## Summary\n",
    "\n",
    "- It's very helpful to know the basics of how a plain text table can be constructed\n",
    "- Once that concept is understood, it's also very helpful to have a tool that does most of the work for you.\n",
    "- In the github link further above, documentation exists showing that the **tabulate** library contains a lot of functionality not shown here, as well as a number of additional formatting options."
   ]
  }
 ],
 "metadata": {
  "kernelspec": {
   "display_name": "Python 3",
   "language": "python",
   "name": "python3"
  },
  "language_info": {
   "codemirror_mode": {
    "name": "ipython",
    "version": 3
   },
   "file_extension": ".py",
   "mimetype": "text/x-python",
   "name": "python",
   "nbconvert_exporter": "python",
   "pygments_lexer": "ipython3",
   "version": "3.8.5"
  }
 },
 "nbformat": 4,
 "nbformat_minor": 4
}
