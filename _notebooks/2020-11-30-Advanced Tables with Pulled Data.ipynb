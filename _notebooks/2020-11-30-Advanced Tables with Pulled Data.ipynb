{
 "cells": [
  {
   "cell_type": "markdown",
   "metadata": {},
   "source": [
    "# Advanced Tables with Pulled Data\n",
    "> WIP: Taking the simple tables concept from a previous post and using real data.\n",
    "\n",
    "- toc: true\n",
    "- badges: true\n",
    "- comments: true\n",
    "- categories: [general]"
   ]
  },
  {
   "cell_type": "markdown",
   "metadata": {},
   "source": [
    "**NOTE:** _**Major Work-in-Progress**_. Maybe not be coherent, and much of the work needs to be updated using tabulate rather than generating tables from scratch. This post was originally going to walk through the basics of building plain text tables from scratch using real data from the outset, but it got too complicated to quickly. A separate post ended up being written for that purpose."
   ]
  },
  {
   "cell_type": "code",
   "execution_count": null,
   "metadata": {},
   "outputs": [],
   "source": [
    "#hide\n",
    "\n",
    "# PyPI\n",
    "from bs4 import BeautifulSoup as BS\n",
    "import requests\n",
    "\n",
    "# Standard\n",
    "import pprint\n",
    "import json\n",
    "import re\n",
    "\n",
    "# SUPPORTING FUNCTIONS\n",
    "def build_title(title: str) -> str:\n",
    "    return f'-------------------------------\\n{title}\\n-------------------------------\\n'"
   ]
  },
  {
   "cell_type": "code",
   "execution_count": null,
   "metadata": {
    "collapsed": true,
    "jupyter": {
     "outputs_hidden": true
    }
   },
   "outputs": [],
   "source": [
    "#hide\n",
    "\n",
    "import requests, json\n",
    "\n",
    "query_url = 'https://idph.illinois.gov/DPHPublicInformation/api/COVID/GetResurgenceData?regionID=8&daysIncluded=3' #+ selectedRegion + '&daysIncluded=' + chartRange\n",
    "\n",
    "page = requests.get(query_url)\n",
    "\n",
    "print(build_title('CLI ADMISSIONS'))\n",
    "pprint.pprint(page.json()['CLIAdmissions'])\n",
    "\n",
    "print(build_title('COUNTRY TEST POSITIVITY REPORTS'))\n",
    "pprint.pprint(page.json()['CountyTestPositivityReports'])\n",
    "\n",
    "print(build_title('HOSPITAL AVAILABILITY'))\n",
    "pprint.pprint(page.json()['HospitalAvailability'])\n",
    "\n",
    "print(build_title('HOSPITAL BEDS IN USE AVG'))\n",
    "pprint.pprint(page.json()['HospitalBedsInUseAvg'])\n",
    "\n",
    "print(build_title('TEST POSITIVITY'))\n",
    "pprint.pprint(page.json()['TestPositivity'])\n",
    "\n",
    "print(build_title('LAST UPDATED DATE'))\n",
    "pprint.pprint(page.json()['lastUpdatedDate'])\n",
    "\n",
    "print(build_title('REGION METRICS'))\n",
    "pprint.pprint(page.json()['regionMetrics'])"
   ]
  },
  {
   "cell_type": "markdown",
   "metadata": {},
   "source": [
    "### Basic Table w/ Manual Column Size Control\n",
    "\n",
    "- The sample data is Covid-19 region 8 information pulled from the Illinois Department of Public Health.\n",
    "  - More data than is needed comes with this HTTP request.\n",
    "  - Specific data used is for the County Test Positivity Reports.\n",
    "- Code description:\n",
    "    - **line 8:** printout of sample json object to show what the raw data looks like\n",
    "    - **line 11:** Simplest form of creating a header: string printing of strings\n",
    "    - **line 14:** The json object, 'countyTestPositivities', under 'CountryTestPositivityReports' contains a list of json objects inside - one for each county. The nested for loop takes the first object, loops through the nested list, then moves onto the next object and nested list.\n",
    "    - **lines 16-26:** rudementry data clean up for the plain text table\n",
    "      - This clean up involves both reformatting of data, but also ensuring that the cells in the table all line up.\n",
    "      - Example - Data Formatting: \"date\" - `counties['reportDate'][:10]` takes the long datetime string and moves all of the time characters. It does this by cutting out any characters between the 10th character ([9]) in the string. There are better ways to do this using the datetime library, but this works as well.\n",
    "      - Example - Table Formatting: \"name\"\n",
    "        - We want the name column to always be 1 characters wide.\n",
    "        - The first step is the basic action of setting the name variable from the pulled data\n",
    "        - The second step is the following, in reverse order of the code in line 19:\n",
    "          - (1) count (`len`) the number of characters in the name string\n",
    "          - (2) subtract that number from the desired column width, which is 10 in this case (if the name is \"Kane\", then that would be 10 - 4 = 6)\n",
    "          - (3) populate \"name_fill\" with a string of spaces the length of the result from the previous step (if the name is \"Kane\", then that would be a string of 6 spaces)\n",
    "      - The column filler variable is setup for \"name\", \"positive\", \"total\", \"daily_avg\", and \"seven_day_avg\"\n",
    "    - **line 27:** The content portion of the table is printed one line at a time using a combination of bars, spaces, and the pair of data variable and filler variable\n",
    "    - **line 28:** Closes the bottm of the table with another string to match the header\n",
    "- See the output further below for a visual of the raw data example, and the resulting plain text table"
   ]
  },
  {
   "cell_type": "code",
   "execution_count": null,
   "metadata": {},
   "outputs": [],
   "source": [
    "print(build_title('COUNTY TEST POSITIVITY REPORTS'))\n",
    "\n",
    "query_url = 'https://idph.illinois.gov/DPHPublicInformation/api/COVID/GetResurgenceData?regionID=8&daysIncluded=5' #+ selectedRegion + '&daysIncluded=' + chartRange\n",
    "page = requests.get(query_url)\n",
    "\n",
    "positivity_rates = page.json()['CountyTestPositivityReports']\n",
    "print('SINGLE SAMPLE')\n",
    "pprint.pprint(positivity_rates[0])\n",
    "print()\n",
    "\n",
    "print('+-----------------------------------------------------------+')\n",
    "print('| DATE       |  NAME      | POS    | TOTAL  | AVG   | 7 DAY |')\n",
    "print('|-----------------------------------------------------------|')\n",
    "for counties in positivity_rates:\n",
    "    for i in counties['countyTestPositivities']:\n",
    "        date = counties['reportDate'][:10]\n",
    "        name = i['CountyName']\n",
    "        name_fill = ' '*(10 - len(name))\n",
    "        positive = i['positive_test']\n",
    "        positive_fill = ' '*(6 - len(str(positive)))\n",
    "        total = i['totalTest']\n",
    "        total_fill = ' '*(6 - len(str(total)))\n",
    "        daily_avg = round(float(i['positive_test']/i['totalTest']*100), 1) # positive tests / total tests * 100, then rounded to 1 decimal place\n",
    "        daily_avg_fill = ' ' *(5 - len(str(daily_avg)))\n",
    "        seven_day_avg = i['positivityRollingAvg']\n",
    "        seven_fill = ' '*(5 - len(str(seven_day_avg)))\n",
    "        print(f'| {date} | {name}{name_fill} | {positive}{positive_fill} | {total}{total_fill} | {daily_avg}{daily_avg_fill} | {seven_day_avg}{seven_fill} |')\n",
    "print('+-----------------------------------------------------------+')"
   ]
  },
  {
   "cell_type": "markdown",
   "metadata": {},
   "source": [
    "### Basic Table with Cleaned Up Data (and also w/ Manual Column Size Control)"
   ]
  },
  {
   "cell_type": "code",
   "execution_count": null,
   "metadata": {},
   "outputs": [],
   "source": [
    "import datetime\n",
    "from datetime import date\n",
    "\n",
    "# TABLE PARAMETERS\n",
    "line_length = 59\n",
    "\n",
    "print(build_title('COUNTY TEST POSITIVITY REPORTS'))\n",
    "\n",
    "query_url = 'https://idph.illinois.gov/DPHPublicInformation/api/COVID/GetResurgenceData?regionID=8&daysIncluded=10' #+ selectedRegion + '&daysIncluded=' + chartRange\n",
    "page = requests.get(query_url)\n",
    "\n",
    "positivity_rates = page.json()['CountyTestPositivityReports']\n",
    "print('SINGLE SAMPLE')\n",
    "pprint.pprint(positivity_rates[-1])\n",
    "behind = datetime.datetime.strptime(positivity_rates[-1]['reportDate'], \"%Y-%m-%dT%H:%M:%S\")\n",
    "behind_str = f'CURRENT DATE: {date.today()} (Report is {(date.today() - behind.date()).days} days *behind*)'\n",
    "behind_fill = ' '*(57 - len(behind_str))\n",
    "print()\n",
    "print(f'+{\"=\"*line_length}+')\n",
    "print(f'| {behind_str}{behind_fill} |')\n",
    "print(f'|{\"=\"*line_length}|')\n",
    "print('| NAME       | DATE       | POS    | TOTAL  | AVG   | 7 DAY |')\n",
    "print(f'|{\"-\"*line_length}|')\n",
    "number_of_counties = len(positivity_rates[0]['countyTestPositivities'])\n",
    "for n in range(number_of_counties):\n",
    "    print_name = True\n",
    "    for counties in positivity_rates:\n",
    "        county = counties['countyTestPositivities'][n]#[n-1]\n",
    "        date = counties['reportDate'][:10]\n",
    "        name = county['CountyName'] if print_name == True else ''\n",
    "        name_fill = ' '*(10 - len(name))\n",
    "        positive = county['positive_test']\n",
    "        positive_fill = ' '*(6 - len(str(positive)))\n",
    "        total = county['totalTest']\n",
    "        total_fill = ' '*(6 - len(str(total)))\n",
    "        daily_avg = round(float(county['positive_test']/county['totalTest']*100), 1) # positive tests / total tests * 100, then rounded to 1 decimal place\n",
    "        daily_avg_fill = ' ' *(5 - len(str(daily_avg)))\n",
    "        seven_day_avg = county['positivityRollingAvg']\n",
    "        seven_fill = ' '*(5 - len(str(seven_day_avg)))\n",
    "        print(f'| {name}{name_fill} | {date} | {positive}{positive_fill} | {total}{total_fill} | {daily_avg}{daily_avg_fill} | {seven_day_avg}{seven_fill} |')\n",
    "        print_name = False\n",
    "    print(f'+{\"-\"*line_length}+')"
   ]
  },
  {
   "cell_type": "markdown",
   "metadata": {},
   "source": [
    "## Tables Created with **tabulate**"
   ]
  },
  {
   "cell_type": "markdown",
   "metadata": {},
   "source": [
    "### Regular tabulate table"
   ]
  },
  {
   "cell_type": "markdown",
   "metadata": {},
   "source": [
    "## Pandas tabulate table\n",
    "\n",
    "- tablefmt options: `plain`, `simple`, `github`, `grid`, `fancy_grid`, `pipe`, `orgtbl`, `jira`, `fpresto`, `pretty`, `psql`, `rst`, `mediawiki`, `moinmoin`, `youtrack`, `html`, `latex`, `latex_raw`, `latex_booktabs`, `textile`"
   ]
  },
  {
   "cell_type": "code",
   "execution_count": null,
   "metadata": {},
   "outputs": [],
   "source": [
    "import numpy as np\n",
    "import pandas as pd\n",
    "from tabulate import tabulate\n",
    "import requests\n",
    "import datetime\n",
    "\n",
    "query_url = 'https://idph.illinois.gov/DPHPublicInformation/api/COVID/GetResurgenceData?regionID=8&daysIncluded=10' # max is 170 days #+ selectedRegion + '&daysIncluded=' + chartRange\n",
    "page = requests.get(query_url)\n",
    "\n",
    "positivity_rates = page.json()['CountyTestPositivityReports']\n",
    "\n",
    "flattened_positivity_rates = []\n",
    "for dates in positivity_rates:\n",
    "    for county in dates['countyTestPositivities']:\n",
    "        county['date'] = datetime.datetime.strptime(dates['reportDate'], \"%Y-%m-%dT%H:%M:%S\")\n",
    "        flattened_positivity_rates.append(county)\n",
    "\n",
    "county_test_pos_rates_df = pd.DataFrame(flattened_positivity_rates)\n",
    "county_test_pos_rates_df['daily_avg'] = (county_test_pos_rates_df['positive_test'] / county_test_pos_rates_df['totalTest']) * 100\n",
    "\n",
    "print(tabulate(county_test_pos_rates_df.sort_values(['CountyName', 'date']), headers = 'keys', tablefmt = 'psql'))"
   ]
  },
  {
   "cell_type": "markdown",
   "metadata": {},
   "source": [
    "#### Aside: Same Pandas Data Visualized"
   ]
  },
  {
   "cell_type": "code",
   "execution_count": null,
   "metadata": {},
   "outputs": [],
   "source": [
    "import matplotlib.pyplot as plt\n",
    "import matplotlib as mpl\n",
    "from datetime import datetime\n",
    "import numpy as np\n",
    "import pandas as pd\n",
    "import requests\n",
    "\n",
    "query_url = 'https://idph.illinois.gov/DPHPublicInformation/api/COVID/GetResurgenceData?regionID=8&daysIncluded=90' # max is 170 days #+ selectedRegion + '&daysIncluded=' + chartRange\n",
    "page = requests.get(query_url)\n",
    "\n",
    "positivity_rates = page.json()['CountyTestPositivityReports']\n",
    "\n",
    "flattened_positivity_rates = []\n",
    "for dates in positivity_rates:\n",
    "    for county in dates['countyTestPositivities']:\n",
    "        county['date'] = datetime.strptime(dates['reportDate'], \"%Y-%m-%dT%H:%M:%S\")\n",
    "        flattened_positivity_rates.append(county)\n",
    "\n",
    "county_test_pos_rates_df = pd.DataFrame(flattened_positivity_rates)\n",
    "county_test_pos_rates_df['daily_avg'] = (county_test_pos_rates_df['positive_test'] / county_test_pos_rates_df['totalTest']) * 100\n",
    "\n",
    "mpl.rcParams['figure.dpi'] = 150\n",
    "county_test_pos_rates_df.plot(y=['daily_avg', 'positivityRollingAvg'], x='date');"
   ]
  },
  {
   "cell_type": "code",
   "execution_count": null,
   "metadata": {},
   "outputs": [],
   "source": [
    "#collapse-hide\n",
    "\n",
    "# SAME GRAPH, BUT WITH INTERACTIVE ADJUSTMENTS\n",
    "\n",
    "import matplotlib.pyplot as plt\n",
    "import matplotlib as mpl\n",
    "from ipywidgets import interact\n",
    "from datetime import datetime, timedelta\n",
    "import numpy as np\n",
    "import pandas as pd\n",
    "import requests\n",
    "\n",
    "query_url = 'https://idph.illinois.gov/DPHPublicInformation/api/COVID/GetResurgenceData?regionID=8&daysIncluded=90' # max is 170 days #+ selectedRegion + '&daysIncluded=' + chartRange\n",
    "page = requests.get(query_url)\n",
    "\n",
    "positivity_rates = page.json()['CountyTestPositivityReports']\n",
    "\n",
    "flattened_positivity_rates = []\n",
    "for dates in positivity_rates:\n",
    "    for county in dates['countyTestPositivities']:\n",
    "        county['date'] = datetime.strptime(dates['reportDate'], \"%Y-%m-%dT%H:%M:%S\")\n",
    "        flattened_positivity_rates.append(county)\n",
    "\n",
    "county_test_pos_rates_df = pd.DataFrame(flattened_positivity_rates)\n",
    "county_test_pos_rates_df['daily_avg'] = (county_test_pos_rates_df['positive_test'] / county_test_pos_rates_df['totalTest']) * 100\n",
    "\n",
    "@interact(dpi=(100, 500), days=(30, 93, 7))\n",
    "def graph(dpi=100, days=93):\n",
    "    mpl.rcParams['figure.dpi'] = dpi\n",
    "    number_prev_days = datetime.today() - timedelta (days)\n",
    "    filtered_df=county_test_pos_rates_df.query(f\"date <= '{datetime.today()}' and date >= '{number_prev_days}'\")\n",
    "    filtered_df.plot(y=['daily_avg', 'positivityRollingAvg'], x='date')"
   ]
  }
 ],
 "metadata": {
  "kernelspec": {
   "display_name": "Python 3",
   "language": "python",
   "name": "python3"
  },
  "language_info": {
   "codemirror_mode": {
    "name": "ipython",
    "version": 3
   },
   "file_extension": ".py",
   "mimetype": "text/x-python",
   "name": "python",
   "nbconvert_exporter": "python",
   "pygments_lexer": "ipython3",
   "version": "3.8.5"
  }
 },
 "nbformat": 4,
 "nbformat_minor": 4
}