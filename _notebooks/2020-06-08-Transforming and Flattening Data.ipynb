{
 "cells": [
  {
   "cell_type": "markdown",
   "metadata": {},
   "source": [
    "# Tranforming and Flattening Data\n",
    "> A test post to try out fastpages\n",
    "\n",
    "- toc: true\n",
    "- badges: true\n",
    "- comments: true\n",
    "- categories: [csv, defaultdict]"
   ]
  },
  {
   "cell_type": "markdown",
   "metadata": {},
   "source": [
    "# The Situation\n",
    "\n",
    "A while back I had a the need to take what were essentially audit logs, where multiple records existed for each id, and flatten then into a single record for each id."
   ]
  },
  {
   "cell_type": "markdown",
   "metadata": {},
   "source": [
    "I pulled the data into python from a database as a list of over 100,000 tuples. Here is an example of the data I was looking at."
   ]
  },
  {
   "cell_type": "markdown",
   "metadata": {},
   "source": [
    "```csv\n",
    "(audit_record.csv)\n",
    "RECORD,ID,OLD_VALUE,FINAL_VALUE,DATE,TABLE,COLUMN\n",
    "1, id1, value1,  value2,  02/01/2020, table1, column1\n",
    "2, id1, value2,  value3,  02/02/2020, table1, column1\n",
    "3, id1, value3,  value1,  02/03/2020, table1, column1\n",
    "4, id2, value4,  value5,  02/01/2020, table1, column1\n",
    "5, id2, value5,  ,        02/03/2020, table1, column1\n",
    "6, id3, value6,  value7,  02/01/2020, table1, column1\n",
    "7, id3, value8,  value9,  02/02/2020, table1, column1\n",
    "8, id4, value10, value11, 02/01/2020, table1, column1\n",
    "9, id4, value11, value12, 02/02/2020, table1, column1\n",
    "10,id4, value12, value4,  02/03/2020, table1, column1\n",
    "```"
   ]
  },
  {
   "cell_type": "markdown",
   "metadata": {},
   "source": [
    "# The Problem\n",
    "\n",
    "This was an audit log for a series of undesired changes. Here is an example of the progression of these changes:\n",
    "\n",
    "- 02/01/2020: a large number of records were changed and iterated to the next highest available number\n",
    "- 02/02/2020: a similar number of records (but not all) were changed again, again iterating to the next available number\n",
    "- 02/03/2020: an additional event took place that resulted in many of the records being corrected (returning to their previous numbers), but some ended at yet another iteration higher, while still others ended up missing a value altogether.\n",
    "\n",
    "In the sample information above there are 4 different unintended transformations of data that occurred:\n",
    "\n",
    "id1: Example series of changes that ended back at the correct value:\n",
    "```\n",
    "02/01: value1  =>  value2  |  02/02: value2  =>  value3  |  02/03: value3  =>  value1\n",
    "```\n",
    "\n",
    "id2: Example of series of changes that ended with a complete removal of the value:\n",
    "```\n",
    "02/01: value4  =>  value5  |  02/02: No Changes  |  02/03: value5  =>  null\n",
    "```\n",
    "\n",
    "id3: Example of series of changes that ended at a different number:\n",
    "```\n",
    "02/01: value6  =>  value7  |  02/02: value7  =>  value8  |  02/03: No Changes\n",
    "```\n",
    "\n",
    "id4: Example of series of changes that ended up a different id's value (data not only incorrect, but conflicting):\n",
    "```\n",
    "02/01: value10  =>  value11  |  02/02: value11  =>  value12  |  02/03: value12  =>  value4\n",
    "```"
   ]
  },
  {
   "cell_type": "markdown",
   "metadata": {},
   "source": [
    "## Details\n",
    "\n",
    "**In addition to the obvious differences between these 4 different changes, there are some that are harder to see:**\n",
    "- Some id records went through 3 changes, others went through 2 (this one is not hard to see)\n",
    "- The last change of some id records was on 02/02, while others' last change was on 02/03\n",
    "\n",
    "**Altogether, the different factors that need to be understood are the following:**\n",
    "- Some records changed each of the 3 days, some only on 2\n",
    "- Some of the records that only changed 2 times had their final changed on day 2, while others skipped day 2 and had their final change on day 3\n",
    "- Some records eventually were self corrected to their original value\n",
    "- Some records iterated 2 times and ended at a different number\n",
    "- Some records eventually ended up with a final value of null\n",
    "- Some records ended up at the original value of a different id\n",
    "\n",
    "**This example, as messy as it is, also is cleaner that the situation itself. The follow challenges existed:**\n",
    "- There were some that only had 1 audit record where the original value was immediately replaced with a null\n",
    "- The list of tuples was not sorted in any fashion\n",
    "- The dates were actually spread over a period of 14 or 15 days, with the changes for a single record following anywhere in that time period -- not a clean 3 days like the example here.\n",
    "\n",
    "**The tuples that represent the audits for these changes are all over the place. In the end, what I wanted to see clearly what I was dealing with. In order to do that I needed to have a list of new records that would clearly show me the following for each id:**\n",
    "- original value, and the date that value was lost\n",
    "- final value, and the date that value was added"
   ]
  },
  {
   "cell_type": "markdown",
   "metadata": {},
   "source": [
    "# The Solution\n",
    "\n",
    "- Gather the change associated with a single id together, identified by that id:"
   ]
  },
  {
   "cell_type": "code",
   "execution_count": 1,
   "metadata": {},
   "outputs": [],
   "source": [
    "import csv\n",
    "from collections import defaultdict\n",
    "\n",
    "reader = csv.DictReader(open('2020-06-08/audit_record.csv'))\n",
    "\n",
    "dict_by_user = defaultdict(list)\n",
    "for i in reader:\n",
    "    dict_by_user[i['ID']].append(i)"
   ]
  },
  {
   "cell_type": "markdown",
   "metadata": {},
   "source": [
    "- The results in ```dcit_by_user``` are the following data structure (python dictionary)\n",
    "\n",
    "```python\n",
    "dict_by_user = {\n",
    "    'id1': [['id1', 'value1', 'value2',  '02/01/2020', 'table1', 'column1'],\n",
    "            ['id1', 'value2', 'value3',  '02/02/2020', 'table1', 'column1'],\n",
    "            ['id1', 'value3', 'value1',  '02/03/2020', 'table1', 'column1']],\n",
    "    'id2': [['id2', 'value4', 'value5',  '02/01/2020', 'table1', 'column1'],\n",
    "            ['id2', 'value5',       '',  '02/03/2020,' 'table1', 'column1']],\n",
    "    'id3': [['id3', 'value6', 'value7',  '02/01/2020', 'table1', 'column1'],\n",
    "            ['id3', 'value8', 'value9',  '02/02/2020', 'table1', 'column1']],\n",
    "    'id4': [['id4', 'value10','value11', '02/01/2020', 'table1', 'column1'],\n",
    "            ['id4', 'value11','value12', '02/02/2020', 'table1', 'column1'],\n",
    "            ['id4', 'value12','value4',  '02/03/2020', 'table1', 'column1']]\n",
    "}\n",
    "```\n",
    "\n",
    "- **NOTE:** The actual end result of a defaultdict. The more accurate representation of what the data looks like can be seen by expanding the result right below here."
   ]
  },
  {
   "cell_type": "code",
   "execution_count": null,
   "metadata": {},
   "outputs": [],
   "source": [
    "#collapse-hide\n",
    "dict_by_user = defaultdict(<class 'list'>,\n",
    "                    {' id1': [OrderedDict([('RECORD', '1'),\n",
    "                                           ('ID', ' id1'),\n",
    "                                           ('OLD_VALUE', 'value1'),\n",
    "                                           ('FINAL_VALUE', 'value2'),\n",
    "                                           ('DATE', '02/01/2020'),\n",
    "                                           ('TABLE', ' table1'),\n",
    "                                           ('COLUMN', ' column1')]),\n",
    "                              OrderedDict([('RECORD', '2'),\n",
    "                                           ('ID', ' id1'),\n",
    "                                           ('OLD_VALUE', 'value2'),\n",
    "                                           ('FINAL_VALUE', 'value3'),\n",
    "                                           ('DATE', '02/02/2020'),\n",
    "                                           ('TABLE', ' table1'),\n",
    "                                           ('COLUMN', ' column1')]),\n",
    "                              OrderedDict([('RECORD', '3'),\n",
    "                                           ('ID', ' id1'),\n",
    "                                           ('OLD_VALUE', 'value1'),\n",
    "                                           ('FINAL_VALUE', 'value1'),\n",
    "                                           ('DATE', '02/03/2020'),\n",
    "                                           ('TABLE', ' table1'),\n",
    "                                           ('COLUMN', ' column1'),\n",
    "                                           ('ORIGINAL_DATE', '02/01/2020')])],\n",
    "                     ' id2': [OrderedDict([('RECORD', '4'),\n",
    "                                           ('ID', ' id2'),\n",
    "                                           ('OLD_VALUE', 'value4'),\n",
    "                                           ('FINAL_VALUE', 'value5'),\n",
    "                                           ('DATE', '02/01/2020'),\n",
    "                                           ('TABLE', ' table1'),\n",
    "                                           ('COLUMN', ' column1')]),\n",
    "                              OrderedDict([('RECORD', '5'),\n",
    "                                           ('ID', ' id2'),\n",
    "                                           ('OLD_VALUE', 'value4'),\n",
    "                                           ('FINAL_VALUE', ''),\n",
    "                                           ('DATE', '02/03/2020'),\n",
    "                                           ('TABLE', ' table1'),\n",
    "                                           ('COLUMN', ' column1'),\n",
    "                                           ('ORIGINAL_DATE', '02/01/2020')])],\n",
    "                     ' id3': [OrderedDict([('RECORD', '6'),\n",
    "                                           ('ID', ' id3'),\n",
    "                                           ('OLD_VALUE', 'value6'),\n",
    "                                           ('FINAL_VALUE', 'value7'),\n",
    "                                           ('DATE', '02/01/2020'),\n",
    "                                           ('TABLE', ' table1'),\n",
    "                                           ('COLUMN', ' column1')]),\n",
    "                              OrderedDict([('RECORD', '7'),\n",
    "                                           ('ID', ' id3'),\n",
    "                                           ('OLD_VALUE', 'value6'),\n",
    "                                           ('FINAL_VALUE', 'value9'),\n",
    "                                           ('DATE', '02/02/2020'),\n",
    "                                           ('TABLE', ' table1'),\n",
    "                                           ('COLUMN', ' column1'),\n",
    "                                           ('ORIGINAL_DATE', '02/01/2020')])],\n",
    "                     ' id4': [OrderedDict([('RECORD', '8'),\n",
    "                                           ('ID', ' id4'),\n",
    "                                           ('OLD_VALUE', 'value10'),\n",
    "                                           ('FINAL_VALUE', 'value11'),\n",
    "                                           ('DATE', '02/01/2020'),\n",
    "                                           ('TABLE', ' table1'),\n",
    "                                           ('COLUMN', ' column1')]),\n",
    "                              OrderedDict([('RECORD', '9'),\n",
    "                                           ('ID', ' id4'),\n",
    "                                           ('OLD_VALUE', 'value10'),\n",
    "                                           ('FINAL_VALUE', 'value12'),\n",
    "                                           ('DATE', '02/02/2020'),\n",
    "                                           ('TABLE', ' table1'),\n",
    "                                           ('COLUMN', ' column1'),\n",
    "                                           ('ORIGINAL_DATE', '02/01/2020')])],\n",
    "                     'id4': [OrderedDict([('RECORD', '10'),\n",
    "                                          ('ID', 'id4'),\n",
    "                                          ('OLD_VALUE', 'value12'),\n",
    "                                          ('FINAL_VALUE', 'value4'),\n",
    "                                          ('DATE', '02/03/2020'),\n",
    "                                          ('TABLE', ' table1'),\n",
    "                                          ('COLUMN', ' column1'),\n",
    "                                          ('ORIGINAL_DATE', '02/03/2020')])]})"
   ]
  },
  {
   "cell_type": "markdown",
   "metadata": {},
   "source": [
    "- ```dict_by_user``` is then passed into the next section:"
   ]
  },
  {
   "cell_type": "code",
   "execution_count": 27,
   "metadata": {},
   "outputs": [],
   "source": [
    "audit_summary_l = []\n",
    "for i in dict_by_user:\n",
    "    if dict_by_user:\n",
    "        temp_dict = {}\n",
    "        max = '0'\n",
    "        min = '99/99/9999'\n",
    "        for record in dict_by_user[i]:\n",
    "            if record['DATE'] > max:\n",
    "                max = record['DATE']\n",
    "                last = record\n",
    "            if record['DATE'] < min:\n",
    "                min = record['DATE']\n",
    "                first = record\n",
    "        temp_dict = last\n",
    "        temp_dict['OLD_VALUE'] = first['OLD_VALUE']\n",
    "        temp_dict['ORIGINAL_DATE'] = first['DATE']\n",
    "        audit_summary_l.append(temp_dict)\n",
    "\n",
    "columns = ['ID','OLD_VALUE','ORIGINAL_DATE','FINAL_VALUE',\n",
    "           'DATE','TABLE','COLUMN','RECORD']\n",
    "with open('2020-06-08/audit_summary.csv', 'w') as output_file:\n",
    "    dict_writer = csv.DictWriter(output_file, fieldnames=columns, lineterminator='\\n')\n",
    "    dict_writer.writeheader()\n",
    "    for data in audit_summary_l:\n",
    "        dict_writer.writerow(data)"
   ]
  },
  {
   "cell_type": "markdown",
   "metadata": {},
   "source": [
    "- This results in the following csv data:\n",
    "\n",
    "```csv\n",
    "ID,OLD_VALUE,ORIGINAL_DATE,FINAL_VALUE,DATE,TABLE,COLUMN,RECORD\n",
    "id1, value1,  02/01/2020, value1, 02/03/2020, table1,column1, 3\n",
    "id2, value4,  02/01/2020,       , 02/03/2020, table1,column1, 5\n",
    "id3, value6,  02/01/2020, value9, 02/02/2020, table1,column1, 7\n",
    "id4, value10, 02/01/2020, value4, 02/03/2020,table 1,column1, 10\n",
    "```"
   ]
  }
 ],
 "metadata": {
  "kernelspec": {
   "display_name": "Python 3",
   "language": "python",
   "name": "python3"
  },
  "language_info": {
   "codemirror_mode": {
    "name": "ipython",
    "version": 3
   },
   "file_extension": ".py",
   "mimetype": "text/x-python",
   "name": "python",
   "nbconvert_exporter": "python",
   "pygments_lexer": "ipython3",
   "version": "3.6.5"
  }
 },
 "nbformat": 4,
 "nbformat_minor": 4
}
